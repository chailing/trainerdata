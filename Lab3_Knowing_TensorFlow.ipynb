{
 "cells": [
  {
   "cell_type": "code",
   "execution_count": 1,
   "metadata": {
    "colab": {},
    "colab_type": "code",
    "id": "fvXlJsfCw9PA"
   },
   "outputs": [],
   "source": [
    "import tensorflow as tf\n",
    "import numpy as np"
   ]
  },
  {
   "cell_type": "markdown",
   "metadata": {
    "colab_type": "text",
    "id": "7KhTq6tzxNha"
   },
   "source": [
    "# Graph & Session"
   ]
  },
  {
   "cell_type": "code",
   "execution_count": 2,
   "metadata": {
    "colab": {
     "base_uri": "https://localhost:8080/",
     "height": 34
    },
    "colab_type": "code",
    "id": "ml2OGJGgxKiC",
    "outputId": "6d170163-88bf-41f4-9de3-8c9944663245"
   },
   "outputs": [
    {
     "name": "stdout",
     "output_type": "stream",
     "text": [
      "[3 6 9]\n"
     ]
    }
   ],
   "source": [
    "# numpy array\n",
    "a = np.array([1,2,3])\n",
    "b = np.array([2,4,6])\n",
    "c = np.add(a,b)\n",
    "print(c)"
   ]
  },
  {
   "cell_type": "markdown",
   "metadata": {
    "colab_type": "text",
    "id": "IJ1LK8y5xjHx"
   },
   "source": [
    "## constant"
   ]
  },
  {
   "cell_type": "code",
   "execution_count": 14,
   "metadata": {
    "colab": {
     "base_uri": "https://localhost:8080/",
     "height": 34
    },
    "colab_type": "code",
    "id": "0YCCMMWKxeX4",
    "outputId": "c964e120-e81f-404b-b0b0-b948dd4edb61"
   },
   "outputs": [
    {
     "name": "stdout",
     "output_type": "stream",
     "text": [
      "Tensor(\"Add_4:0\", shape=(3,), dtype=int32)\n"
     ]
    }
   ],
   "source": [
    "# tensor - no immediate evaluation\n",
    "x = tf.constant([1,2,3], name=\"x\")\n",
    "y = tf.constant([2,4,6], name=\"y\")\n",
    "z = tf.add(x,y) # no calculation happens at this line    #lazy evaluation\n",
    "print(z)"
   ]
  },
  {
   "cell_type": "code",
   "execution_count": 15,
   "metadata": {
    "colab": {
     "base_uri": "https://localhost:8080/",
     "height": 34
    },
    "colab_type": "code",
    "id": "cfCuDcdExtZE",
    "outputId": "7e0a68fc-4396-4555-ebe5-d8ff575886bf"
   },
   "outputs": [
    {
     "name": "stdout",
     "output_type": "stream",
     "text": [
      "[3 6 9]\n"
     ]
    }
   ],
   "source": [
    "# session.run\n",
    "with tf.Session() as sess:\n",
    "    result = sess.run(z) # a sess comes with a graph\n",
    "    print(result) # calculation happens here!\n",
    "    \n",
    "\n",
    "# TH: Try this\n",
    "    writer = tf.summary.FileWriter('./lab1_graph_and_session', sess.graph)\n",
    "writer.close()"
   ]
  },
  {
   "cell_type": "markdown",
   "metadata": {
    "colab_type": "text",
    "id": "mjQYyHXax_W9"
   },
   "source": [
    "# Variable & Placeholder"
   ]
  },
  {
   "cell_type": "markdown",
   "metadata": {
    "colab_type": "text",
    "id": "HpgIgEiByDrB"
   },
   "source": [
    "## variable"
   ]
  },
  {
   "cell_type": "code",
   "execution_count": 16,
   "metadata": {
    "colab": {
     "base_uri": "https://localhost:8080/",
     "height": 119
    },
    "colab_type": "code",
    "id": "2X_TWjssxxLo",
    "outputId": "c6776d41-7845-45cc-9421-5ae58622af77"
   },
   "outputs": [
    {
     "name": "stdout",
     "output_type": "stream",
     "text": [
      "0\n",
      "1\n",
      "2\n",
      "3\n",
      "4\n",
      "5\n"
     ]
    }
   ],
   "source": [
    "# Variable\n",
    "\n",
    "state = tf.Variable(0, name = 'counter') #a Variable init as 0, named as counter\n",
    "current = tf.add(state, 1) # an operator:add 1 to the variable:state\n",
    "\n",
    "update = tf.assign(state, current) #state <- current\n",
    "\n",
    "#Note: Always remember to init operator if using Variable\n",
    "init = tf.global_variables_initializer()  # need include  this before go to session\n",
    "with tf.Session() as sess:\n",
    "    sess.run(init)\n",
    "    print(sess.run(state)) # print init value\n",
    "    \n",
    "    for _ in range(5):\n",
    "        sess.run(update)\n",
    "        print(sess.run(state)) "
   ]
  },
  {
   "cell_type": "code",
   "execution_count": 17,
   "metadata": {
    "colab": {
     "base_uri": "https://localhost:8080/",
     "height": 136
    },
    "colab_type": "code",
    "id": "BBAzJ6iXyK-7",
    "outputId": "42bd5cdd-73b8-46ef-a7c0-d6d2d1253bc4"
   },
   "outputs": [
    {
     "name": "stdout",
     "output_type": "stream",
     "text": [
      "<tf.Variable 'model/weight:0' shape=(1, 2) dtype=float32_ref>\n",
      "Loop 0\n",
      "[[0.13117039 0.50132656]]\n",
      "Loop 1\n",
      "[[0.23117042 0.6013266 ]]\n",
      "Loop 2\n",
      "[[0.33117044 0.7013266 ]]\n"
     ]
    }
   ],
   "source": [
    "# Variable\n",
    "\n",
    "with tf.variable_scope(\"model\", reuse=tf.AUTO_REUSE):\n",
    "    w = tf.get_variable(\"weight\", \n",
    "                       shape=(1,2),  # row and column: 1 row 2 columns\n",
    "                       initializer=tf.truncated_normal_initializer(),\n",
    "                       trainable=True)\n",
    "    \n",
    "    print(w)\n",
    "    \n",
    "    with tf.Session() as sess:\n",
    "        tf.global_variables_initializer().run() #Note: Always remember to init operator if using Variable\n",
    "        for _ in range(3):\n",
    "            out = tf.add(w, 1)\n",
    "            w = w + 0.1\n",
    "            print('Loop {}'.format(_))\n",
    "            #print(sess.run(out))  choose either one print\n",
    "            # TH: Try this\n",
    "            print(out.eval())"
   ]
  },
  {
   "cell_type": "markdown",
   "metadata": {
    "colab_type": "text",
    "id": "wkBSDV6TyteA"
   },
   "source": [
    "## placeholder"
   ]
  },
  {
   "cell_type": "code",
   "execution_count": 18,
   "metadata": {
    "colab": {
     "base_uri": "https://localhost:8080/",
     "height": 68
    },
    "colab_type": "code",
    "id": "_bifBhTVyakV",
    "outputId": "5d083a6d-5e43-4515-bf33-c020d1d08f30"
   },
   "outputs": [
    {
     "name": "stdout",
     "output_type": "stream",
     "text": [
      "Tensor(\"Placeholder_1:0\", dtype=float32)\n",
      "[[ 2.2  4.4  6.6]\n",
      " [ 4.   8.  12. ]]\n"
     ]
    }
   ],
   "source": [
    "# Placeholder\n",
    "\n",
    "p1 = tf.placeholder(\"float\", None)\n",
    "p2 = p1 * 2\n",
    "\n",
    "print(p1)\n",
    "\n",
    "with tf.Session() as sess:\n",
    "    print(sess.run(p2, feed_dict={p1: [[1.1,2.2,3.3],[2,4,6]]}))"
   ]
  },
  {
   "cell_type": "markdown",
   "metadata": {
    "colab_type": "text",
    "id": "3H0itRWHzC_v"
   },
   "source": [
    "# Tensor"
   ]
  },
  {
   "cell_type": "markdown",
   "metadata": {
    "colab_type": "text",
    "id": "GD7qSXVfzItv"
   },
   "source": [
    "## multi dimensional array of data"
   ]
  },
  {
   "cell_type": "code",
   "execution_count": 19,
   "metadata": {
    "colab": {},
    "colab_type": "code",
    "id": "4njOdIQ0yyvk"
   },
   "outputs": [],
   "source": [
    "x0 = tf.constant(3)\n",
    "x1 = tf.constant([1,3,5])\n",
    "x2 = tf.stack([x1,x1])\n",
    "x3 = tf.stack([x2,x2,x2,x2])\n",
    "x4 = tf.stack([x3,x3])"
   ]
  },
  {
   "cell_type": "code",
   "execution_count": 20,
   "metadata": {
    "colab": {
     "base_uri": "https://localhost:8080/",
     "height": 102
    },
    "colab_type": "code",
    "id": "JAtjFZV2zORn",
    "outputId": "ec7cbd8d-b727-4aa8-f657-33bc47ffdced"
   },
   "outputs": [
    {
     "name": "stdout",
     "output_type": "stream",
     "text": [
      "Tensor(\"Const_7:0\", shape=(), dtype=int32)\n",
      "Tensor(\"Const_8:0\", shape=(3,), dtype=int32)\n",
      "Tensor(\"stack_3:0\", shape=(2, 3), dtype=int32)\n",
      "Tensor(\"stack_4:0\", shape=(4, 2, 3), dtype=int32)\n",
      "Tensor(\"stack_5:0\", shape=(2, 4, 2, 3), dtype=int32)\n"
     ]
    }
   ],
   "source": [
    "print(x0)\n",
    "print(x1)\n",
    "print(x2)\n",
    "print(x3)\n",
    "print(x4)"
   ]
  },
  {
   "cell_type": "markdown",
   "metadata": {
    "colab_type": "text",
    "id": "EKOm9bRHz8TU"
   },
   "source": [
    "## slicing a tensor"
   ]
  },
  {
   "cell_type": "code",
   "execution_count": 21,
   "metadata": {
    "colab": {
     "base_uri": "https://localhost:8080/",
     "height": 34
    },
    "colab_type": "code",
    "id": "rcqBE_wmzQv0",
    "outputId": "e07bdafa-d130-493c-ce1e-6c794551a672"
   },
   "outputs": [
    {
     "name": "stdout",
     "output_type": "stream",
     "text": [
      "[1 3]\n"
     ]
    }
   ],
   "source": [
    "y = x2[:,1]  # : mean every row, only column 1 --> start with 0, column 1 mean 2nd column\n",
    "\n",
    "# TH: Try this\n",
    "y = x2[1,0:2]\n",
    "\n",
    "with tf.Session() as sess:\n",
    "    print(y.eval())"
   ]
  },
  {
   "cell_type": "markdown",
   "metadata": {
    "colab_type": "text",
    "id": "XC93kq9T0DeE"
   },
   "source": [
    "## reshape"
   ]
  },
  {
   "cell_type": "code",
   "execution_count": 22,
   "metadata": {
    "colab": {
     "base_uri": "https://localhost:8080/",
     "height": 85
    },
    "colab_type": "code",
    "id": "WU7--9MO0BZ_",
    "outputId": "d2ceec6f-c76d-4707-bee9-de58b9b5b02b"
   },
   "outputs": [
    {
     "name": "stdout",
     "output_type": "stream",
     "text": [
      "[[1 3]\n",
      " [5 2]\n",
      " [4 6]]\n",
      "[5 2]\n"
     ]
    }
   ],
   "source": [
    "x = tf.constant([[1,3,5],\n",
    "                 [2,4,6]])\n",
    "y = tf.reshape(x,[3,2])  # 3 rows 1 column from 2 x 3 to 3 x 2 of row columns (3 rows 2 columns)\n",
    "y2 = tf.reshape(x,[3,2])[1,:]\n",
    "\n",
    "with tf.Session() as sess:\n",
    "    print(y.eval())\n",
    "    print(y2.eval())"
   ]
  },
  {
   "cell_type": "markdown",
   "metadata": {
    "colab_type": "text",
    "id": "pqPx4w_90LgX"
   },
   "source": [
    "# TensorBoard"
   ]
  },
  {
   "cell_type": "code",
   "execution_count": 26,
   "metadata": {
    "colab": {
     "base_uri": "https://localhost:8080/",
     "height": 34
    },
    "colab_type": "code",
    "id": "J34DaJhF0Hf5",
    "outputId": "2cb3f5ea-4617-42db-9bc8-8bb02722bef3"
   },
   "outputs": [
    {
     "name": "stdout",
     "output_type": "stream",
     "text": [
      "5\n"
     ]
    }
   ],
   "source": [
    "a, b, c, d = tf.constant(1), tf.constant(2), tf.constant(3),tf.constant(4)\n",
    "\n",
    "add = tf.add(a,b)  \n",
    "mul = tf.multiply(add, c)\n",
    "sub = tf.subtract(mul, d)\n",
    "\n",
    "# TH: Try this\n",
    "add = a + b\n",
    "mul = add * c\n",
    "sub = mul - d\n",
    "\n",
    "with tf.Session() as sess: \n",
    "    fwrite = tf.summary.FileWriter('./lab3_tensorboard', sess.graph)\n",
    "    #fwrite = tf.summary.FileWriter('/content/gdrive/My Drive/Colab Notebooks/ML Spark Mar 2019/Graph/lab3_tensorboard', sess.graph)\n",
    "    print(sess.run(sub)) \n",
    "fwrite.close() "
   ]
  },
  {
   "cell_type": "markdown",
   "metadata": {
    "colab_type": "text",
    "id": "zNF2cAIf0VlH"
   },
   "source": [
    "## How to open TensorBoard?\n",
    "\n",
    "1. At cmd prompt, run\n",
    "\n",
    "```\n",
    "tensorboard --logdir=/path/to/dir\n",
    "```\n",
    "\n",
    "2. At browser, go to http://localhost:6006 \n",
    "\n",
    " For info: https://github.com/tensorflow/tensorboard/blob/master/README.md"
   ]
  },
  {
   "cell_type": "code",
   "execution_count": null,
   "metadata": {
    "colab": {},
    "colab_type": "code",
    "id": "ci9lkCtP0s1H"
   },
   "outputs": [],
   "source": []
  },
  {
   "cell_type": "code",
   "execution_count": null,
   "metadata": {},
   "outputs": [],
   "source": []
  }
 ],
 "metadata": {
  "colab": {
   "collapsed_sections": [],
   "name": "Lab3 - Knowing TensorFlow",
   "provenance": [],
   "version": "0.3.2"
  },
  "kernelspec": {
   "display_name": "Python 3",
   "language": "python",
   "name": "python3"
  },
  "language_info": {
   "codemirror_mode": {
    "name": "ipython",
    "version": 3
   },
   "file_extension": ".py",
   "mimetype": "text/x-python",
   "name": "python",
   "nbconvert_exporter": "python",
   "pygments_lexer": "ipython3",
   "version": "3.7.4"
  }
 },
 "nbformat": 4,
 "nbformat_minor": 1
}
