{
 "cells": [
  {
   "cell_type": "markdown",
   "metadata": {
    "colab_type": "text",
    "id": "RrWYarFQgQf-"
   },
   "source": [
    "# Lab - CarPark Vacancy\n",
    "Reference: Dataset was extracted from one of the KlangValley shopping mall (updated to Nov 2018)\n",
    "\n",
    "Exercise: \n",
    "1. Predict the carpark vacant status in Zone A.\n",
    "\n",
    "\n"
   ]
  },
  {
   "cell_type": "code",
   "execution_count": 1,
   "metadata": {
    "colab": {},
    "colab_type": "code",
    "id": "IvLl71PpgLlI"
   },
   "outputs": [],
   "source": [
    "import tensorflow as tf\n",
    "import numpy as np\n",
    "import pandas as pd\n",
    "import seaborn as sns\n",
    "import shutil\n",
    "\n",
    "\n",
    "from tensorflow import keras\n",
    "from tensorflow.keras import layers\n",
    "from tensorflow.python.feature_column import feature_column_v2 as fc"
   ]
  },
  {
   "cell_type": "markdown",
   "metadata": {
    "colab_type": "text",
    "id": "5sCYlVmigXtf"
   },
   "source": [
    "## Reading dataset"
   ]
  },
  {
   "cell_type": "code",
   "execution_count": 2,
   "metadata": {
    "colab": {
     "base_uri": "https://localhost:8080/",
     "height": 51
    },
    "colab_type": "code",
    "id": "MqWugFUTgTbY",
    "outputId": "155225d5-f6f5-4602-b132-66035ee1dc58"
   },
   "outputs": [
    {
     "name": "stdout",
     "output_type": "stream",
     "text": [
      "All dataset: (15501, 9)\n",
      "Sep - Feb dataset: (15501, 9)\n"
     ]
    }
   ],
   "source": [
    "df_all = pd.read_csv(\"https://github.com/thenghui/trainerdata/raw/master/VacantBays.csv\")\n",
    "print('All dataset: {}'.format(df_all.shape))\n",
    "\n",
    "df = df_all\n",
    "print('Sep - Feb dataset: {}'.format(df.shape))\n",
    "\n"
   ]
  },
  {
   "cell_type": "markdown",
   "metadata": {
    "colab_type": "text",
    "id": "PchSnMLUg39x"
   },
   "source": [
    "## Cleanup & prepare data"
   ]
  },
  {
   "cell_type": "code",
   "execution_count": 3,
   "metadata": {
    "colab": {
     "base_uri": "https://localhost:8080/",
     "height": 34
    },
    "colab_type": "code",
    "id": "CN-VnWJ4gzSy",
    "outputId": "6679bb95-7122-400c-a601-a2b71c9c1a51"
   },
   "outputs": [
    {
     "name": "stdout",
     "output_type": "stream",
     "text": [
      "(15501, 9)\n"
     ]
    }
   ],
   "source": [
    "#Cleanup numbers\n",
    "\n",
    "cleanup_nums = {\"A\": {\"FULL\": 0},\n",
    "                \"B\": {\"FULL\": 0},\n",
    "                \"C\": {\"FULL\": 0},\n",
    "                \"G\": {\"FULL\": 0},\n",
    "                \"H\": {\"FULL\": 0},\n",
    "                \"P\": {\"FULL\": 0},\n",
    "                \"U\": {\"FULL\": 0},\n",
    "               }\n",
    "\n",
    "df.replace(cleanup_nums, inplace=True)\n",
    "df.dropna(subset=['A','B','C','G','H','P','U'])\n",
    "print(df.shape)"
   ]
  },
  {
   "cell_type": "code",
   "execution_count": 4,
   "metadata": {
    "colab": {
     "base_uri": "https://localhost:8080/",
     "height": 187
    },
    "colab_type": "code",
    "id": "XCA7c2e_g7oI",
    "outputId": "6eb52cb4-c48f-41e1-cd5f-74303783faa9"
   },
   "outputs": [
    {
     "data": {
      "text/plain": [
       "DateTime      datetime64[ns]\n",
       "IsoWeekday             int64\n",
       "A                    float64\n",
       "B                    float64\n",
       "C                    float64\n",
       "G                    float64\n",
       "H                    float64\n",
       "P                    float64\n",
       "U                    float64\n",
       "dtype: object"
      ]
     },
     "execution_count": 4,
     "metadata": {},
     "output_type": "execute_result"
    }
   ],
   "source": [
    "# Convert to datetime\n",
    "\n",
    "df['A'] = df['A'].astype(np.float64)\n",
    "df['B'] = df['B'].astype(np.float64)\n",
    "df['C'] = df['C'].astype(np.float64)\n",
    "df['G'] = df['G'].astype(np.float64)\n",
    "df['H'] = df['H'].astype(np.float64)\n",
    "df['P'] = df['P'].astype(np.float64)\n",
    "df['U'] = df['U'].astype(np.float64)\n",
    "df['DateTime'] =  pd.to_datetime(df['DateTime'])\n",
    "df.dtypes"
   ]
  },
  {
   "cell_type": "code",
   "execution_count": 5,
   "metadata": {
    "colab": {
     "base_uri": "https://localhost:8080/",
     "height": 204
    },
    "colab_type": "code",
    "id": "PBozZvYXg-4P",
    "outputId": "a4209178-aabf-4877-aa41-5108b905a092"
   },
   "outputs": [
    {
     "data": {
      "text/html": [
       "<div>\n",
       "<style scoped>\n",
       "    .dataframe tbody tr th:only-of-type {\n",
       "        vertical-align: middle;\n",
       "    }\n",
       "\n",
       "    .dataframe tbody tr th {\n",
       "        vertical-align: top;\n",
       "    }\n",
       "\n",
       "    .dataframe thead th {\n",
       "        text-align: right;\n",
       "    }\n",
       "</style>\n",
       "<table border=\"1\" class=\"dataframe\">\n",
       "  <thead>\n",
       "    <tr style=\"text-align: right;\">\n",
       "      <th></th>\n",
       "      <th>DateTime</th>\n",
       "      <th>IsoWeekday</th>\n",
       "      <th>A</th>\n",
       "      <th>B</th>\n",
       "      <th>C</th>\n",
       "      <th>G</th>\n",
       "      <th>H</th>\n",
       "      <th>P</th>\n",
       "      <th>U</th>\n",
       "      <th>Hour</th>\n",
       "      <th>Minute</th>\n",
       "    </tr>\n",
       "  </thead>\n",
       "  <tbody>\n",
       "    <tr>\n",
       "      <th>0</th>\n",
       "      <td>2018-09-20 01:32:30.850890</td>\n",
       "      <td>4</td>\n",
       "      <td>770.0</td>\n",
       "      <td>2592.0</td>\n",
       "      <td>875.0</td>\n",
       "      <td>1410.0</td>\n",
       "      <td>1455.0</td>\n",
       "      <td>310.0</td>\n",
       "      <td>811.0</td>\n",
       "      <td>1</td>\n",
       "      <td>32</td>\n",
       "    </tr>\n",
       "    <tr>\n",
       "      <th>1</th>\n",
       "      <td>2018-09-20 01:39:01.932373</td>\n",
       "      <td>4</td>\n",
       "      <td>773.0</td>\n",
       "      <td>2590.0</td>\n",
       "      <td>876.0</td>\n",
       "      <td>1415.0</td>\n",
       "      <td>1459.0</td>\n",
       "      <td>310.0</td>\n",
       "      <td>810.0</td>\n",
       "      <td>1</td>\n",
       "      <td>39</td>\n",
       "    </tr>\n",
       "    <tr>\n",
       "      <th>2</th>\n",
       "      <td>2018-09-20 01:39:40.024931</td>\n",
       "      <td>4</td>\n",
       "      <td>773.0</td>\n",
       "      <td>2591.0</td>\n",
       "      <td>876.0</td>\n",
       "      <td>1414.0</td>\n",
       "      <td>1459.0</td>\n",
       "      <td>310.0</td>\n",
       "      <td>810.0</td>\n",
       "      <td>1</td>\n",
       "      <td>39</td>\n",
       "    </tr>\n",
       "    <tr>\n",
       "      <th>3</th>\n",
       "      <td>2018-09-20 01:39:52.258908</td>\n",
       "      <td>4</td>\n",
       "      <td>773.0</td>\n",
       "      <td>2591.0</td>\n",
       "      <td>876.0</td>\n",
       "      <td>1415.0</td>\n",
       "      <td>1459.0</td>\n",
       "      <td>310.0</td>\n",
       "      <td>810.0</td>\n",
       "      <td>1</td>\n",
       "      <td>39</td>\n",
       "    </tr>\n",
       "    <tr>\n",
       "      <th>4</th>\n",
       "      <td>2018-09-20 01:40:49.225890</td>\n",
       "      <td>4</td>\n",
       "      <td>773.0</td>\n",
       "      <td>2590.0</td>\n",
       "      <td>876.0</td>\n",
       "      <td>1412.0</td>\n",
       "      <td>1458.0</td>\n",
       "      <td>310.0</td>\n",
       "      <td>810.0</td>\n",
       "      <td>1</td>\n",
       "      <td>40</td>\n",
       "    </tr>\n",
       "  </tbody>\n",
       "</table>\n",
       "</div>"
      ],
      "text/plain": [
       "                    DateTime  IsoWeekday      A       B      C       G  \\\n",
       "0 2018-09-20 01:32:30.850890           4  770.0  2592.0  875.0  1410.0   \n",
       "1 2018-09-20 01:39:01.932373           4  773.0  2590.0  876.0  1415.0   \n",
       "2 2018-09-20 01:39:40.024931           4  773.0  2591.0  876.0  1414.0   \n",
       "3 2018-09-20 01:39:52.258908           4  773.0  2591.0  876.0  1415.0   \n",
       "4 2018-09-20 01:40:49.225890           4  773.0  2590.0  876.0  1412.0   \n",
       "\n",
       "        H      P      U  Hour  Minute  \n",
       "0  1455.0  310.0  811.0     1      32  \n",
       "1  1459.0  310.0  810.0     1      39  \n",
       "2  1459.0  310.0  810.0     1      39  \n",
       "3  1459.0  310.0  810.0     1      39  \n",
       "4  1458.0  310.0  810.0     1      40  "
      ]
     },
     "execution_count": 5,
     "metadata": {},
     "output_type": "execute_result"
    }
   ],
   "source": [
    "# Extract Hour and Minute\n",
    "df['Hour'] = df.DateTime.apply(lambda x: x.hour)\n",
    "df['Minute'] = df.DateTime.apply(lambda x: x.minute)\n",
    "df.head()"
   ]
  },
  {
   "cell_type": "markdown",
   "metadata": {
    "colab_type": "text",
    "id": "gREgMNYBhJIN"
   },
   "source": [
    "## Classify the carpark vacant status \n"
   ]
  },
  {
   "cell_type": "code",
   "execution_count": 6,
   "metadata": {
    "colab": {
     "base_uri": "https://localhost:8080/",
     "height": 297
    },
    "colab_type": "code",
    "id": "oIrO30D8hDyj",
    "outputId": "b3843c9e-6fd2-479b-d1b3-7d71dab30ac5"
   },
   "outputs": [
    {
     "data": {
      "text/html": [
       "<div>\n",
       "<style scoped>\n",
       "    .dataframe tbody tr th:only-of-type {\n",
       "        vertical-align: middle;\n",
       "    }\n",
       "\n",
       "    .dataframe tbody tr th {\n",
       "        vertical-align: top;\n",
       "    }\n",
       "\n",
       "    .dataframe thead th {\n",
       "        text-align: right;\n",
       "    }\n",
       "</style>\n",
       "<table border=\"1\" class=\"dataframe\">\n",
       "  <thead>\n",
       "    <tr style=\"text-align: right;\">\n",
       "      <th></th>\n",
       "      <th>IsoWeekday</th>\n",
       "      <th>A</th>\n",
       "      <th>B</th>\n",
       "      <th>C</th>\n",
       "      <th>G</th>\n",
       "      <th>H</th>\n",
       "      <th>P</th>\n",
       "      <th>U</th>\n",
       "      <th>Hour</th>\n",
       "      <th>Minute</th>\n",
       "    </tr>\n",
       "  </thead>\n",
       "  <tbody>\n",
       "    <tr>\n",
       "      <th>count</th>\n",
       "      <td>15501.000000</td>\n",
       "      <td>15415.000000</td>\n",
       "      <td>15414.000000</td>\n",
       "      <td>15415.000000</td>\n",
       "      <td>15408.000000</td>\n",
       "      <td>15409.000000</td>\n",
       "      <td>15408.000000</td>\n",
       "      <td>15413.000000</td>\n",
       "      <td>15501.000000</td>\n",
       "      <td>15501.000000</td>\n",
       "    </tr>\n",
       "    <tr>\n",
       "      <th>mean</th>\n",
       "      <td>3.998581</td>\n",
       "      <td>704.462991</td>\n",
       "      <td>1434.660633</td>\n",
       "      <td>730.117418</td>\n",
       "      <td>793.190680</td>\n",
       "      <td>797.931209</td>\n",
       "      <td>209.521223</td>\n",
       "      <td>496.244339</td>\n",
       "      <td>11.490549</td>\n",
       "      <td>22.506806</td>\n",
       "    </tr>\n",
       "    <tr>\n",
       "      <th>std</th>\n",
       "      <td>1.993440</td>\n",
       "      <td>607.467157</td>\n",
       "      <td>1073.310776</td>\n",
       "      <td>672.026296</td>\n",
       "      <td>566.210323</td>\n",
       "      <td>582.460440</td>\n",
       "      <td>106.322034</td>\n",
       "      <td>287.991933</td>\n",
       "      <td>6.929934</td>\n",
       "      <td>16.765946</td>\n",
       "    </tr>\n",
       "    <tr>\n",
       "      <th>min</th>\n",
       "      <td>1.000000</td>\n",
       "      <td>0.000000</td>\n",
       "      <td>0.000000</td>\n",
       "      <td>0.000000</td>\n",
       "      <td>0.000000</td>\n",
       "      <td>0.000000</td>\n",
       "      <td>0.000000</td>\n",
       "      <td>0.000000</td>\n",
       "      <td>0.000000</td>\n",
       "      <td>0.000000</td>\n",
       "    </tr>\n",
       "    <tr>\n",
       "      <th>25%</th>\n",
       "      <td>2.000000</td>\n",
       "      <td>76.000000</td>\n",
       "      <td>281.000000</td>\n",
       "      <td>59.000000</td>\n",
       "      <td>212.000000</td>\n",
       "      <td>197.000000</td>\n",
       "      <td>119.000000</td>\n",
       "      <td>234.000000</td>\n",
       "      <td>5.000000</td>\n",
       "      <td>15.000000</td>\n",
       "    </tr>\n",
       "    <tr>\n",
       "      <th>50%</th>\n",
       "      <td>4.000000</td>\n",
       "      <td>738.000000</td>\n",
       "      <td>1585.000000</td>\n",
       "      <td>731.000000</td>\n",
       "      <td>861.000000</td>\n",
       "      <td>857.000000</td>\n",
       "      <td>257.000000</td>\n",
       "      <td>552.000000</td>\n",
       "      <td>11.000000</td>\n",
       "      <td>30.000000</td>\n",
       "    </tr>\n",
       "    <tr>\n",
       "      <th>75%</th>\n",
       "      <td>6.000000</td>\n",
       "      <td>1053.000000</td>\n",
       "      <td>2564.000000</td>\n",
       "      <td>1083.000000</td>\n",
       "      <td>1389.000000</td>\n",
       "      <td>1413.000000</td>\n",
       "      <td>304.000000</td>\n",
       "      <td>785.000000</td>\n",
       "      <td>18.000000</td>\n",
       "      <td>39.000000</td>\n",
       "    </tr>\n",
       "    <tr>\n",
       "      <th>max</th>\n",
       "      <td>7.000000</td>\n",
       "      <td>1792.000000</td>\n",
       "      <td>2646.000000</td>\n",
       "      <td>1956.000000</td>\n",
       "      <td>1503.000000</td>\n",
       "      <td>1525.000000</td>\n",
       "      <td>317.000000</td>\n",
       "      <td>831.000000</td>\n",
       "      <td>23.000000</td>\n",
       "      <td>46.000000</td>\n",
       "    </tr>\n",
       "  </tbody>\n",
       "</table>\n",
       "</div>"
      ],
      "text/plain": [
       "         IsoWeekday             A             B             C             G  \\\n",
       "count  15501.000000  15415.000000  15414.000000  15415.000000  15408.000000   \n",
       "mean       3.998581    704.462991   1434.660633    730.117418    793.190680   \n",
       "std        1.993440    607.467157   1073.310776    672.026296    566.210323   \n",
       "min        1.000000      0.000000      0.000000      0.000000      0.000000   \n",
       "25%        2.000000     76.000000    281.000000     59.000000    212.000000   \n",
       "50%        4.000000    738.000000   1585.000000    731.000000    861.000000   \n",
       "75%        6.000000   1053.000000   2564.000000   1083.000000   1389.000000   \n",
       "max        7.000000   1792.000000   2646.000000   1956.000000   1503.000000   \n",
       "\n",
       "                  H             P             U          Hour        Minute  \n",
       "count  15409.000000  15408.000000  15413.000000  15501.000000  15501.000000  \n",
       "mean     797.931209    209.521223    496.244339     11.490549     22.506806  \n",
       "std      582.460440    106.322034    287.991933      6.929934     16.765946  \n",
       "min        0.000000      0.000000      0.000000      0.000000      0.000000  \n",
       "25%      197.000000    119.000000    234.000000      5.000000     15.000000  \n",
       "50%      857.000000    257.000000    552.000000     11.000000     30.000000  \n",
       "75%     1413.000000    304.000000    785.000000     18.000000     39.000000  \n",
       "max     1525.000000    317.000000    831.000000     23.000000     46.000000  "
      ]
     },
     "execution_count": 6,
     "metadata": {},
     "output_type": "execute_result"
    }
   ],
   "source": [
    "df.describe()"
   ]
  },
  {
   "cell_type": "code",
   "execution_count": 7,
   "metadata": {
    "colab": {
     "base_uri": "https://localhost:8080/",
     "height": 204
    },
    "colab_type": "code",
    "id": "EGov6hCuhL6h",
    "outputId": "3f040d59-0e8f-4993-8327-52c62974b6e1"
   },
   "outputs": [
    {
     "data": {
      "text/html": [
       "<div>\n",
       "<style scoped>\n",
       "    .dataframe tbody tr th:only-of-type {\n",
       "        vertical-align: middle;\n",
       "    }\n",
       "\n",
       "    .dataframe tbody tr th {\n",
       "        vertical-align: top;\n",
       "    }\n",
       "\n",
       "    .dataframe thead th {\n",
       "        text-align: right;\n",
       "    }\n",
       "</style>\n",
       "<table border=\"1\" class=\"dataframe\">\n",
       "  <thead>\n",
       "    <tr style=\"text-align: right;\">\n",
       "      <th></th>\n",
       "      <th>DateTime</th>\n",
       "      <th>IsoWeekday</th>\n",
       "      <th>A</th>\n",
       "      <th>B</th>\n",
       "      <th>C</th>\n",
       "      <th>G</th>\n",
       "      <th>H</th>\n",
       "      <th>P</th>\n",
       "      <th>U</th>\n",
       "      <th>Hour</th>\n",
       "      <th>Minute</th>\n",
       "      <th>A_State</th>\n",
       "    </tr>\n",
       "  </thead>\n",
       "  <tbody>\n",
       "    <tr>\n",
       "      <th>0</th>\n",
       "      <td>2018-09-20 01:32:30.850890</td>\n",
       "      <td>4</td>\n",
       "      <td>770.0</td>\n",
       "      <td>2592.0</td>\n",
       "      <td>875.0</td>\n",
       "      <td>1410.0</td>\n",
       "      <td>1455.0</td>\n",
       "      <td>310.0</td>\n",
       "      <td>811.0</td>\n",
       "      <td>1</td>\n",
       "      <td>32</td>\n",
       "      <td>3</td>\n",
       "    </tr>\n",
       "    <tr>\n",
       "      <th>1</th>\n",
       "      <td>2018-09-20 01:39:01.932373</td>\n",
       "      <td>4</td>\n",
       "      <td>773.0</td>\n",
       "      <td>2590.0</td>\n",
       "      <td>876.0</td>\n",
       "      <td>1415.0</td>\n",
       "      <td>1459.0</td>\n",
       "      <td>310.0</td>\n",
       "      <td>810.0</td>\n",
       "      <td>1</td>\n",
       "      <td>39</td>\n",
       "      <td>3</td>\n",
       "    </tr>\n",
       "    <tr>\n",
       "      <th>2</th>\n",
       "      <td>2018-09-20 01:39:40.024931</td>\n",
       "      <td>4</td>\n",
       "      <td>773.0</td>\n",
       "      <td>2591.0</td>\n",
       "      <td>876.0</td>\n",
       "      <td>1414.0</td>\n",
       "      <td>1459.0</td>\n",
       "      <td>310.0</td>\n",
       "      <td>810.0</td>\n",
       "      <td>1</td>\n",
       "      <td>39</td>\n",
       "      <td>3</td>\n",
       "    </tr>\n",
       "    <tr>\n",
       "      <th>3</th>\n",
       "      <td>2018-09-20 01:39:52.258908</td>\n",
       "      <td>4</td>\n",
       "      <td>773.0</td>\n",
       "      <td>2591.0</td>\n",
       "      <td>876.0</td>\n",
       "      <td>1415.0</td>\n",
       "      <td>1459.0</td>\n",
       "      <td>310.0</td>\n",
       "      <td>810.0</td>\n",
       "      <td>1</td>\n",
       "      <td>39</td>\n",
       "      <td>3</td>\n",
       "    </tr>\n",
       "    <tr>\n",
       "      <th>4</th>\n",
       "      <td>2018-09-20 01:40:49.225890</td>\n",
       "      <td>4</td>\n",
       "      <td>773.0</td>\n",
       "      <td>2590.0</td>\n",
       "      <td>876.0</td>\n",
       "      <td>1412.0</td>\n",
       "      <td>1458.0</td>\n",
       "      <td>310.0</td>\n",
       "      <td>810.0</td>\n",
       "      <td>1</td>\n",
       "      <td>40</td>\n",
       "      <td>3</td>\n",
       "    </tr>\n",
       "  </tbody>\n",
       "</table>\n",
       "</div>"
      ],
      "text/plain": [
       "                    DateTime  IsoWeekday      A       B      C       G  \\\n",
       "0 2018-09-20 01:32:30.850890           4  770.0  2592.0  875.0  1410.0   \n",
       "1 2018-09-20 01:39:01.932373           4  773.0  2590.0  876.0  1415.0   \n",
       "2 2018-09-20 01:39:40.024931           4  773.0  2591.0  876.0  1414.0   \n",
       "3 2018-09-20 01:39:52.258908           4  773.0  2591.0  876.0  1415.0   \n",
       "4 2018-09-20 01:40:49.225890           4  773.0  2590.0  876.0  1412.0   \n",
       "\n",
       "        H      P      U  Hour  Minute  A_State  \n",
       "0  1455.0  310.0  811.0     1      32        3  \n",
       "1  1459.0  310.0  810.0     1      39        3  \n",
       "2  1459.0  310.0  810.0     1      39        3  \n",
       "3  1459.0  310.0  810.0     1      39        3  \n",
       "4  1458.0  310.0  810.0     1      40        3  "
      ]
     },
     "execution_count": 7,
     "metadata": {},
     "output_type": "execute_result"
    }
   ],
   "source": [
    "# Define status for Carpark Zone A\n",
    "def A_state(x):\n",
    "    if x > 1053:\n",
    "        return 4 # you are early!\n",
    "    elif x > 738:\n",
    "        return 3 # plenty of vacancy\n",
    "    elif x > 76:\n",
    "        return 2 # limited bay\n",
    "    elif x > 0:\n",
    "        return 1 # good luck\n",
    "    else:\n",
    "        return 0\n",
    "    \n",
    "df['A_State'] = df['A'].apply(A_state)\n",
    "df.head()"
   ]
  },
  {
   "cell_type": "markdown",
   "metadata": {
    "colab_type": "text",
    "id": "tolCYYKGhZuf"
   },
   "source": [
    "## Split into dataset of: Train, Validation, Test (70%-20%-10%)"
   ]
  },
  {
   "cell_type": "code",
   "execution_count": 8,
   "metadata": {
    "colab": {
     "base_uri": "https://localhost:8080/",
     "height": 68
    },
    "colab_type": "code",
    "id": "nVn5gM1fhWso",
    "outputId": "fe4d4a6b-52cc-49d7-8e4d-0344fbc88f73"
   },
   "outputs": [
    {
     "name": "stdout",
     "output_type": "stream",
     "text": [
      "Train set: (10850, 4)\n",
      "Validate set: (3100, 4)\n",
      "Test set: (1551, 4)\n"
     ]
    }
   ],
   "source": [
    "df_train0, df_valid0, df_test0 = np.split(df.sample(frac=1), [int(.7*len(df)), int(.9*len(df))])\n",
    "\n",
    "# select only Featured columns\n",
    "df_train = df_train0[['A_State','Hour','Minute','IsoWeekday']]\n",
    "df_valid = df_valid0[['A_State','Hour','Minute','IsoWeekday']]\n",
    "df_test = df_test0[['A_State','Hour','Minute','IsoWeekday']]\n",
    "\n",
    "print('Train set: {}'.format(df_train.shape))\n",
    "print('Validate set: {}'.format(df_valid.shape))\n",
    "print('Test set: {}'.format(df_test.shape))\n",
    "\n"
   ]
  },
  {
   "cell_type": "markdown",
   "metadata": {
    "colab_type": "text",
    "id": "so02FsYthgLS"
   },
   "source": [
    "## Feature & Label "
   ]
  },
  {
   "cell_type": "code",
   "execution_count": 9,
   "metadata": {
    "colab": {},
    "colab_type": "code",
    "id": "HIb6UlsfhdUn"
   },
   "outputs": [],
   "source": [
    "FEATURES_NUM = ['Hour','Minute','IsoWeekday']\n",
    "LABEL = 'A_State'\n",
    "NUM_CLASSES = 5"
   ]
  },
  {
   "cell_type": "code",
   "execution_count": null,
   "metadata": {},
   "outputs": [],
   "source": []
  },
  {
   "cell_type": "code",
   "execution_count": 10,
   "metadata": {},
   "outputs": [
    {
     "name": "stdout",
     "output_type": "stream",
     "text": [
      "WARNING:tensorflow:From /usr/local/lib/python3.7/dist-packages/tensorflow/python/ops/resource_variable_ops.py:435: colocate_with (from tensorflow.python.framework.ops) is deprecated and will be removed in a future version.\n",
      "Instructions for updating:\n",
      "Colocations handled automatically by placer.\n",
      "_________________________________________________________________\n",
      "Layer (type)                 Output Shape              Param #   \n",
      "=================================================================\n",
      "dense (Dense)                (None, 32)                128       \n",
      "_________________________________________________________________\n",
      "dense_1 (Dense)              (None, 64)                2112      \n",
      "_________________________________________________________________\n",
      "dense_2 (Dense)              (None, 5)                 325       \n",
      "=================================================================\n",
      "Total params: 2,565\n",
      "Trainable params: 2,565\n",
      "Non-trainable params: 0\n",
      "_________________________________________________________________\n"
     ]
    }
   ],
   "source": [
    "model = tf.keras.Sequential()\n",
    "# Input - Layer\n",
    "model.add(layers.Dense(32, activation = tf.keras.activations.relu, input_shape=(3,))) # 3 is cause of 3 features\n",
    "# Hidden - Layers\n",
    "#model.add(layers.Dropout(0.3, noise_shape=None, seed=None))\n",
    "#model.add(layers.Dense(64, activation = \"relu\"))\n",
    "#model.add(layers.Dropout(0.2, noise_shape=None, seed=None))\n",
    "model.add(layers.Dense(64, activation = tf.keras.activations.relu))\n",
    "#model.add(layers.Dropout(0.2, noise_shape=None, seed=None))\n",
    "# Output- Layer\n",
    "model.add(layers.Dense(5, activation = tf.keras.activations.softmax)) # 5 categories\n",
    "\n",
    "model.summary()\n",
    "          \n",
    "model.compile(\n",
    "    #optimizer = tf.keras.optimizers.RMSprop(lr=0.01),\n",
    "    #loss = \"binary_crossentropy\",\n",
    "    optimizer = tf.keras.optimizers.Adam(lr=0.001),\n",
    "    loss = tf.keras.losses.categorical_crossentropy,   \n",
    "    metrics = [\"accuracy\"]\n",
    ")"
   ]
  },
  {
   "cell_type": "code",
   "execution_count": 11,
   "metadata": {},
   "outputs": [
    {
     "name": "stdout",
     "output_type": "stream",
     "text": [
      "Train on 10850 samples, validate on 3100 samples\n",
      "WARNING:tensorflow:From /usr/local/lib/python3.7/dist-packages/tensorflow/python/ops/math_ops.py:3066: to_int32 (from tensorflow.python.ops.math_ops) is deprecated and will be removed in a future version.\n",
      "Instructions for updating:\n",
      "Use tf.cast instead.\n",
      "Epoch 1/50\n",
      "10850/10850 [==============================] - 1s 65us/sample - loss: 1.3744 - acc: 0.4025 - val_loss: 1.2326 - val_acc: 0.4703\n",
      "Epoch 2/50\n",
      "10850/10850 [==============================] - 1s 50us/sample - loss: 1.2234 - acc: 0.4867 - val_loss: 1.1710 - val_acc: 0.4900\n",
      "Epoch 3/50\n",
      "10850/10850 [==============================] - 1s 51us/sample - loss: 1.1719 - acc: 0.5139 - val_loss: 1.1327 - val_acc: 0.5394\n",
      "Epoch 4/50\n",
      "10850/10850 [==============================] - 1s 51us/sample - loss: 1.1261 - acc: 0.5359 - val_loss: 1.0921 - val_acc: 0.5410\n",
      "Epoch 5/50\n",
      "10850/10850 [==============================] - 1s 51us/sample - loss: 1.0909 - acc: 0.5536 - val_loss: 1.0486 - val_acc: 0.5642\n",
      "Epoch 6/50\n",
      "10850/10850 [==============================] - 1s 52us/sample - loss: 1.0412 - acc: 0.5747 - val_loss: 1.0111 - val_acc: 0.5719\n",
      "Epoch 7/50\n",
      "10850/10850 [==============================] - 1s 52us/sample - loss: 1.0022 - acc: 0.5990 - val_loss: 0.9428 - val_acc: 0.6345\n",
      "Epoch 8/50\n",
      "10850/10850 [==============================] - 1s 51us/sample - loss: 0.9610 - acc: 0.6202 - val_loss: 0.9194 - val_acc: 0.6500\n",
      "Epoch 9/50\n",
      "10850/10850 [==============================] - 1s 52us/sample - loss: 0.9234 - acc: 0.6406 - val_loss: 0.8780 - val_acc: 0.6555\n",
      "Epoch 10/50\n",
      "10850/10850 [==============================] - 1s 51us/sample - loss: 0.8931 - acc: 0.6603 - val_loss: 0.8461 - val_acc: 0.6761\n",
      "Epoch 11/50\n",
      "10850/10850 [==============================] - 1s 51us/sample - loss: 0.8564 - acc: 0.6760 - val_loss: 0.8228 - val_acc: 0.7068\n",
      "Epoch 12/50\n",
      "10850/10850 [==============================] - 1s 51us/sample - loss: 0.8389 - acc: 0.6777 - val_loss: 0.8037 - val_acc: 0.7106\n",
      "Epoch 13/50\n",
      "10850/10850 [==============================] - 1s 51us/sample - loss: 0.8143 - acc: 0.6885 - val_loss: 0.7866 - val_acc: 0.7090\n",
      "Epoch 14/50\n",
      "10850/10850 [==============================] - 1s 50us/sample - loss: 0.7986 - acc: 0.6908 - val_loss: 0.7810 - val_acc: 0.7042\n",
      "Epoch 15/50\n",
      "10850/10850 [==============================] - 1s 51us/sample - loss: 0.7841 - acc: 0.6972 - val_loss: 0.7907 - val_acc: 0.6871\n",
      "Epoch 16/50\n",
      "10850/10850 [==============================] - 1s 51us/sample - loss: 0.7685 - acc: 0.7101 - val_loss: 0.7535 - val_acc: 0.7113\n",
      "Epoch 17/50\n",
      "10850/10850 [==============================] - 1s 51us/sample - loss: 0.7615 - acc: 0.7111 - val_loss: 0.7652 - val_acc: 0.7184\n",
      "Epoch 18/50\n",
      "10850/10850 [==============================] - 1s 52us/sample - loss: 0.7620 - acc: 0.7078 - val_loss: 0.7314 - val_acc: 0.7242\n",
      "Epoch 19/50\n",
      "10850/10850 [==============================] - 1s 52us/sample - loss: 0.7427 - acc: 0.7187 - val_loss: 0.7364 - val_acc: 0.7471\n",
      "Epoch 20/50\n",
      "10850/10850 [==============================] - 1s 51us/sample - loss: 0.7366 - acc: 0.7223 - val_loss: 0.7227 - val_acc: 0.7177\n",
      "Epoch 21/50\n",
      "10850/10850 [==============================] - 1s 51us/sample - loss: 0.7284 - acc: 0.7182 - val_loss: 0.7143 - val_acc: 0.7303\n",
      "Epoch 22/50\n",
      "10850/10850 [==============================] - 1s 51us/sample - loss: 0.7235 - acc: 0.7166 - val_loss: 0.7286 - val_acc: 0.7332\n",
      "Epoch 23/50\n",
      "10850/10850 [==============================] - 1s 51us/sample - loss: 0.7165 - acc: 0.7261 - val_loss: 0.6932 - val_acc: 0.7445\n",
      "Epoch 24/50\n",
      "10850/10850 [==============================] - 1s 50us/sample - loss: 0.7193 - acc: 0.7246 - val_loss: 0.7016 - val_acc: 0.7416\n",
      "Epoch 25/50\n",
      "10850/10850 [==============================] - 1s 52us/sample - loss: 0.7058 - acc: 0.7245 - val_loss: 0.7118 - val_acc: 0.7519\n",
      "Epoch 26/50\n",
      "10850/10850 [==============================] - 1s 52us/sample - loss: 0.6988 - acc: 0.7317 - val_loss: 0.7086 - val_acc: 0.7229\n",
      "Epoch 27/50\n",
      "10850/10850 [==============================] - 1s 51us/sample - loss: 0.7057 - acc: 0.7253 - val_loss: 0.6744 - val_acc: 0.7581\n",
      "Epoch 28/50\n",
      "10850/10850 [==============================] - 1s 51us/sample - loss: 0.6900 - acc: 0.7325 - val_loss: 0.6922 - val_acc: 0.7284\n",
      "Epoch 29/50\n",
      "10850/10850 [==============================] - 1s 51us/sample - loss: 0.6852 - acc: 0.7358 - val_loss: 0.6766 - val_acc: 0.7532\n",
      "Epoch 30/50\n",
      "10850/10850 [==============================] - 1s 51us/sample - loss: 0.6825 - acc: 0.7324 - val_loss: 0.6755 - val_acc: 0.7397\n",
      "Epoch 31/50\n",
      "10850/10850 [==============================] - 1s 51us/sample - loss: 0.6804 - acc: 0.7347 - val_loss: 0.6795 - val_acc: 0.7494\n",
      "Epoch 32/50\n",
      "10850/10850 [==============================] - 1s 51us/sample - loss: 0.6764 - acc: 0.7355 - val_loss: 0.6881 - val_acc: 0.7265\n",
      "Epoch 33/50\n",
      "10850/10850 [==============================] - 1s 51us/sample - loss: 0.6756 - acc: 0.7359 - val_loss: 0.6580 - val_acc: 0.7481\n",
      "Epoch 34/50\n",
      "10850/10850 [==============================] - 1s 51us/sample - loss: 0.6735 - acc: 0.7370 - val_loss: 0.6611 - val_acc: 0.7468\n",
      "Epoch 35/50\n",
      "10850/10850 [==============================] - 1s 51us/sample - loss: 0.6650 - acc: 0.7344 - val_loss: 0.6585 - val_acc: 0.7558\n",
      "Epoch 36/50\n",
      "10850/10850 [==============================] - 1s 50us/sample - loss: 0.6604 - acc: 0.7418 - val_loss: 0.6475 - val_acc: 0.7623\n",
      "Epoch 37/50\n",
      "10850/10850 [==============================] - 1s 50us/sample - loss: 0.6599 - acc: 0.7400 - val_loss: 0.6822 - val_acc: 0.7365\n",
      "Epoch 38/50\n",
      "10850/10850 [==============================] - 1s 49us/sample - loss: 0.6582 - acc: 0.7448 - val_loss: 0.6518 - val_acc: 0.7555\n",
      "Epoch 39/50\n",
      "10850/10850 [==============================] - 1s 49us/sample - loss: 0.6543 - acc: 0.7444 - val_loss: 0.7057 - val_acc: 0.7303\n",
      "Epoch 40/50\n",
      "10850/10850 [==============================] - 1s 49us/sample - loss: 0.6609 - acc: 0.7375 - val_loss: 0.6293 - val_acc: 0.7697\n",
      "Epoch 41/50\n",
      "10850/10850 [==============================] - 1s 49us/sample - loss: 0.6516 - acc: 0.7448 - val_loss: 0.6436 - val_acc: 0.7597\n",
      "Epoch 42/50\n",
      "10850/10850 [==============================] - 1s 49us/sample - loss: 0.6514 - acc: 0.7446 - val_loss: 0.6400 - val_acc: 0.7571\n",
      "Epoch 43/50\n",
      "10850/10850 [==============================] - 1s 49us/sample - loss: 0.6490 - acc: 0.7473 - val_loss: 0.6525 - val_acc: 0.7403\n",
      "Epoch 44/50\n",
      "10850/10850 [==============================] - 1s 49us/sample - loss: 0.6440 - acc: 0.7453 - val_loss: 0.6677 - val_acc: 0.7403\n",
      "Epoch 45/50\n",
      "10850/10850 [==============================] - 1s 48us/sample - loss: 0.6407 - acc: 0.7475 - val_loss: 0.6372 - val_acc: 0.7600\n",
      "Epoch 46/50\n",
      "10850/10850 [==============================] - 1s 48us/sample - loss: 0.6430 - acc: 0.7462 - val_loss: 0.6322 - val_acc: 0.7648\n",
      "Epoch 47/50\n",
      "10850/10850 [==============================] - 1s 49us/sample - loss: 0.6392 - acc: 0.7517 - val_loss: 0.6165 - val_acc: 0.7671\n",
      "Epoch 48/50\n",
      "10850/10850 [==============================] - 1s 49us/sample - loss: 0.6360 - acc: 0.7555 - val_loss: 0.6178 - val_acc: 0.7706\n",
      "Epoch 49/50\n",
      "10850/10850 [==============================] - 1s 49us/sample - loss: 0.6397 - acc: 0.7489 - val_loss: 0.6399 - val_acc: 0.7529\n",
      "Epoch 50/50\n",
      "10850/10850 [==============================] - 1s 49us/sample - loss: 0.6311 - acc: 0.7519 - val_loss: 0.6174 - val_acc: 0.7710\n"
     ]
    }
   ],
   "source": [
    "#print(df_train.drop([LABEL], axis=1).values)\n",
    "#print(df_train[LABEL].values.reshape((10850,-1)))\n",
    "\n",
    "history = model.fit(\n",
    " df_train.drop([LABEL], axis=1), \n",
    " tf.keras.utils.to_categorical(df_train[LABEL], NUM_CLASSES),\n",
    " epochs= 50,\n",
    " batch_size = 32,\n",
    " validation_data = (df_valid.drop([LABEL], axis=1), \n",
    "                    tf.keras.utils.to_categorical(df_valid[LABEL]))\n",
    ")"
   ]
  },
  {
   "cell_type": "code",
   "execution_count": 12,
   "metadata": {},
   "outputs": [
    {
     "name": "stdout",
     "output_type": "stream",
     "text": [
      "Test-Accuracy: 0.7079549\n"
     ]
    }
   ],
   "source": [
    "print(\"Test-Accuracy:\", np.mean(history.history[\"val_acc\"]))\n"
   ]
  },
  {
   "cell_type": "code",
   "execution_count": 13,
   "metadata": {},
   "outputs": [
    {
     "name": "stdout",
     "output_type": "stream",
     "text": [
      "1551/1551 [==============================] - 0s 18us/sample - loss: 0.6286 - acc: 0.7582\n"
     ]
    },
    {
     "data": {
      "text/plain": [
       "[0.6285700234269266, 0.7582205]"
      ]
     },
     "execution_count": 13,
     "metadata": {},
     "output_type": "execute_result"
    }
   ],
   "source": [
    "score = model.evaluate(df_test.drop([LABEL], axis=1).values, \n",
    "                       tf.keras.utils.to_categorical(df_test[LABEL], NUM_CLASSES), \n",
    "                       batch_size=32)\n",
    "score"
   ]
  },
  {
   "cell_type": "code",
   "execution_count": 14,
   "metadata": {},
   "outputs": [
    {
     "data": {
      "text/plain": [
       "array([[5.6339769e-07, 2.3948395e-11, 1.1916999e-04, 3.9948768e-06,\n",
       "        9.9987626e-01],\n",
       "       [1.2335182e-09, 1.0997458e-08, 1.6531728e-02, 9.2583883e-01,\n",
       "        5.7629451e-02],\n",
       "       [3.9928174e-04, 1.5911410e-02, 7.1360773e-01, 1.5087084e-01,\n",
       "        1.1921076e-01],\n",
       "       ...,\n",
       "       [9.3996932e-06, 9.4848342e-04, 2.1084914e-01, 1.0910040e-01,\n",
       "        6.7909259e-01],\n",
       "       [5.2733242e-04, 2.3950743e-03, 4.9633750e-01, 3.8082686e-01,\n",
       "        1.1991317e-01],\n",
       "       [2.8586192e-06, 6.1013938e-10, 3.9562047e-04, 1.2412405e-03,\n",
       "        9.9836022e-01]], dtype=float32)"
      ]
     },
     "execution_count": 14,
     "metadata": {},
     "output_type": "execute_result"
    }
   ],
   "source": [
    "result = model.predict(df_test.drop([LABEL], axis=1), \n",
    "                       batch_size=32)\n",
    "result"
   ]
  },
  {
   "cell_type": "code",
   "execution_count": 17,
   "metadata": {},
   "outputs": [
    {
     "data": {
      "text/html": [
       "<div>\n",
       "<style scoped>\n",
       "    .dataframe tbody tr th:only-of-type {\n",
       "        vertical-align: middle;\n",
       "    }\n",
       "\n",
       "    .dataframe tbody tr th {\n",
       "        vertical-align: top;\n",
       "    }\n",
       "\n",
       "    .dataframe thead th {\n",
       "        text-align: right;\n",
       "    }\n",
       "</style>\n",
       "<table border=\"1\" class=\"dataframe\">\n",
       "  <thead>\n",
       "    <tr style=\"text-align: right;\">\n",
       "      <th></th>\n",
       "      <th>A_State</th>\n",
       "      <th>Hour</th>\n",
       "      <th>Minute</th>\n",
       "      <th>IsoWeekday</th>\n",
       "    </tr>\n",
       "  </thead>\n",
       "  <tbody>\n",
       "    <tr>\n",
       "      <th>14855</th>\n",
       "      <td>3</td>\n",
       "      <td>6</td>\n",
       "      <td>15</td>\n",
       "      <td>5</td>\n",
       "    </tr>\n",
       "    <tr>\n",
       "      <th>4541</th>\n",
       "      <td>4</td>\n",
       "      <td>10</td>\n",
       "      <td>15</td>\n",
       "      <td>2</td>\n",
       "    </tr>\n",
       "    <tr>\n",
       "      <th>12429</th>\n",
       "      <td>4</td>\n",
       "      <td>22</td>\n",
       "      <td>45</td>\n",
       "      <td>7</td>\n",
       "    </tr>\n",
       "    <tr>\n",
       "      <th>10601</th>\n",
       "      <td>3</td>\n",
       "      <td>20</td>\n",
       "      <td>30</td>\n",
       "      <td>2</td>\n",
       "    </tr>\n",
       "    <tr>\n",
       "      <th>6333</th>\n",
       "      <td>4</td>\n",
       "      <td>3</td>\n",
       "      <td>30</td>\n",
       "      <td>7</td>\n",
       "    </tr>\n",
       "  </tbody>\n",
       "</table>\n",
       "</div>"
      ],
      "text/plain": [
       "       A_State  Hour  Minute  IsoWeekday\n",
       "14855        3     6      15           5\n",
       "4541         4    10      15           2\n",
       "12429        4    22      45           7\n",
       "10601        3    20      30           2\n",
       "6333         4     3      30           7"
      ]
     },
     "execution_count": 17,
     "metadata": {},
     "output_type": "execute_result"
    }
   ],
   "source": [
    "df_test.tail() #head / tail"
   ]
  },
  {
   "cell_type": "code",
   "execution_count": 18,
   "metadata": {},
   "outputs": [
    {
     "data": {
      "image/png": "[encoded data removed]",
      "text/plain": [
       "<Figure size 432x288 with 1 Axes>"
      ]
     },
     "metadata": {
      "needs_background": "light"
     },
     "output_type": "display_data"
    },
    {
     "data": {
      "image/png": "[encoded data removed]",
      "text/plain": [
       "<Figure size 432x288 with 1 Axes>"
      ]
     },
     "metadata": {
      "needs_background": "light"
     },
     "output_type": "display_data"
    }
   ],
   "source": [
    "from matplotlib import pyplot\n",
    "\n",
    "# plot loss during training\n",
    "pyplot.subplot(111)\n",
    "pyplot.title('Loss')\n",
    "pyplot.plot(history.history['loss'], label='train')\n",
    "pyplot.plot(history.history['val_loss'], label='valid')\n",
    "pyplot.legend()\n",
    "pyplot.show()\n",
    "\n",
    "# plot accuracy during training\n",
    "pyplot.subplot(111)\n",
    "pyplot.title('Accuracy')\n",
    "pyplot.plot(history.history['acc'], label='train')\n",
    "pyplot.plot(history.history['val_acc'], label='valid')\n",
    "pyplot.legend()\n",
    "pyplot.show()"
   ]
  },
  {
   "cell_type": "code",
   "execution_count": null,
   "metadata": {},
   "outputs": [],
   "source": []
  },
  {
   "cell_type": "code",
   "execution_count": null,
   "metadata": {},
   "outputs": [],
   "source": []
  },
  {
   "cell_type": "code",
   "execution_count": null,
   "metadata": {},
   "outputs": [],
   "source": []
  },
  {
   "cell_type": "code",
   "execution_count": null,
   "metadata": {},
   "outputs": [],
   "source": []
  },
  {
   "cell_type": "markdown",
   "metadata": {
    "colab_type": "text",
    "id": "IAhe_B5qhlWh"
   },
   "source": [
    "## Determine metrics for validation - Accuracy"
   ]
  },
  {
   "cell_type": "code",
   "execution_count": null,
   "metadata": {
    "colab": {},
    "colab_type": "code",
    "id": "5JZeaw6NhixZ"
   },
   "outputs": [],
   "source": [
    "def print_accuracy(model, df):\n",
    "  metrics = model.evaluate(input_fn = tf.estimator.inputs.pandas_input_fn(\n",
    "    x = df,\n",
    "    y = df[LABEL],\n",
    "    batch_size = 128,\n",
    "    shuffle = False\n",
    "  ))\n",
    "  print('Accuracy on dataset = {}'.format(metrics['accuracy']))\n",
    "    \n",
    "#print_accuracy(model, df_valid)"
   ]
  },
  {
   "cell_type": "markdown",
   "metadata": {
    "colab_type": "text",
    "id": "Xe9H6T88hqcf"
   },
   "source": [
    "## Model: DNN Classifier"
   ]
  },
  {
   "cell_type": "code",
   "execution_count": null,
   "metadata": {
    "colab": {
     "base_uri": "https://localhost:8080/",
     "height": 2230
    },
    "colab_type": "code",
    "id": "PzP0ShvJhoES",
    "outputId": "d79a6823-a40f-4dcb-9ca1-5ccbf9f1279e"
   },
   "outputs": [],
   "source": [
    "# DNNClassifier\n",
    "OUTDIR = 'carparkClass_trained'\n",
    "tf.logging.set_verbosity(tf.logging.INFO)\n",
    "shutil.rmtree(OUTDIR, ignore_errors = True) # start fresh each time\n",
    "\n",
    "model = tf.estimator.DNNClassifier(\n",
    "    hidden_units = [512, 256, 128], \n",
    "    feature_columns = [tf.feature_column.numeric_column('Hour'),\n",
    "                       tf.feature_column.numeric_column('Minute'),\n",
    "                       tf.feature_column.numeric_column('IsoWeekday')\n",
    "                      ], \n",
    "    activation_fn = tf.nn.relu,\n",
    "    n_classes=5,\n",
    "    optimizer=tf.train.AdamOptimizer(\n",
    "      learning_rate=0.01,\n",
    "      #l1_regularization_strength=0.001\n",
    "    ),\n",
    "    #loss_reduction='weighted_sum',\n",
    "    model_dir = OUTDIR,\n",
    "#    config=tf.estimator.RunConfig(save_summary_steps=2,\n",
    "#                                  save_checkpoints_steps=2)\n",
    ")\n",
    "\n",
    "model.train(input_fn = tf.estimator.inputs.pandas_input_fn(\n",
    "    x = df_train,\n",
    "    y = df_train[LABEL],\n",
    "    batch_size = 128,\n",
    "    num_epochs = 50,\n",
    "    shuffle = True\n",
    "  ));\n",
    "\n",
    "print_accuracy(model, df_valid)"
   ]
  },
  {
   "cell_type": "markdown",
   "metadata": {
    "colab_type": "text",
    "id": "2XRWrqTAhzbe"
   },
   "source": [
    "## Prediction "
   ]
  },
  {
   "cell_type": "code",
   "execution_count": null,
   "metadata": {
    "colab": {
     "base_uri": "https://localhost:8080/",
     "height": 77741
    },
    "colab_type": "code",
    "id": "rDw62Qh1huKK",
    "outputId": "967b767c-8bde-4b32-8330-3719e2c4d5b6"
   },
   "outputs": [],
   "source": [
    "predictions = model.predict(input_fn = tf.estimator.inputs.pandas_input_fn(\n",
    "#    x = pd.DataFrame({\n",
    "#                      'Hour':[9,10,12],\n",
    "#                      'Minute':[0,0,0],\n",
    "#                      'IsoWeekday':[4,4,5]}),\n",
    "    x = df_test,\n",
    "    y = None,\n",
    "    batch_size = 64,\n",
    "    shuffle = False\n",
    "  ))\n",
    "\n",
    "for items in predictions:\n",
    "  print(items)"
   ]
  },
  {
   "cell_type": "code",
   "execution_count": null,
   "metadata": {
    "colab": {
     "base_uri": "https://localhost:8080/",
     "height": 204
    },
    "colab_type": "code",
    "id": "wMuKOL42h4Yy",
    "outputId": "40b70987-f3ad-48e1-a990-bbb00ad682ba"
   },
   "outputs": [],
   "source": [
    "df_test.head()"
   ]
  },
  {
   "cell_type": "code",
   "execution_count": null,
   "metadata": {
    "colab": {},
    "colab_type": "code",
    "id": "Jsk4vZGlh7rZ"
   },
   "outputs": [],
   "source": []
  }
 ],
 "metadata": {
  "colab": {
   "collapsed_sections": [],
   "name": "Lab5 - Carpark Vacancy via Classification",
   "provenance": [],
   "version": "0.3.2"
  },
  "kernelspec": {
   "display_name": "Python 3",
   "language": "python",
   "name": "python3"
  },
  "language_info": {
   "codemirror_mode": {
    "name": "ipython",
    "version": 3
   },
   "file_extension": ".py",
   "mimetype": "text/x-python",
   "name": "python",
   "nbconvert_exporter": "python",
   "pygments_lexer": "ipython3",
   "version": "3.7.3"
  }
 },
 "nbformat": 4,
 "nbformat_minor": 1
}
